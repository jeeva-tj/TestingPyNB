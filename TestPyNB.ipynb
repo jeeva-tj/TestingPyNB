{
    "cells": [
        {
            "cell_type": "code",
            "execution_count": 3,
            "metadata": {},
            "outputs": [
                {
                    "data": {
                        "text/html": "<div>\n<style scoped>\n    .dataframe tbody tr th:only-of-type {\n        vertical-align: middle;\n    }\n\n    .dataframe tbody tr th {\n        vertical-align: top;\n    }\n\n    .dataframe thead th {\n        text-align: right;\n    }\n</style>\n<table border=\"1\" class=\"dataframe\">\n  <thead>\n    <tr style=\"text-align: right;\">\n      <th></th>\n      <th>Car;MPG;Cylinders;Displacement;Horsepower;Weight;Acceleration;Model;Origin</th>\n    </tr>\n  </thead>\n  <tbody>\n    <tr>\n      <th>0</th>\n      <td>STRING;DOUBLE;INT;DOUBLE;DOUBLE;DOUBLE;DOUBLE;...</td>\n    </tr>\n    <tr>\n      <th>1</th>\n      <td>Chevrolet Chevelle Malibu;18.0;8;307.0;130.0;3...</td>\n    </tr>\n    <tr>\n      <th>2</th>\n      <td>Buick Skylark 320;15.0;8;350.0;165.0;3693.;11....</td>\n    </tr>\n    <tr>\n      <th>3</th>\n      <td>Plymouth Satellite;18.0;8;318.0;150.0;3436.;11...</td>\n    </tr>\n    <tr>\n      <th>4</th>\n      <td>AMC Rebel SST;16.0;8;304.0;150.0;3433.;12.0;70;US</td>\n    </tr>\n  </tbody>\n</table>\n</div>",
                        "text/plain": "  Car;MPG;Cylinders;Displacement;Horsepower;Weight;Acceleration;Model;Origin\n0  STRING;DOUBLE;INT;DOUBLE;DOUBLE;DOUBLE;DOUBLE;...                        \n1  Chevrolet Chevelle Malibu;18.0;8;307.0;130.0;3...                        \n2  Buick Skylark 320;15.0;8;350.0;165.0;3693.;11....                        \n3  Plymouth Satellite;18.0;8;318.0;150.0;3436.;11...                        \n4  AMC Rebel SST;16.0;8;304.0;150.0;3433.;12.0;70;US                        "
                    },
                    "execution_count": 3,
                    "metadata": {},
                    "output_type": "execute_result"
                }
            ],
            "source": "# The code was removed by Watson Studio for sharing."
        },
        {
            "cell_type": "code",
            "execution_count": null,
            "metadata": {},
            "outputs": [],
            "source": ""
        }
    ],
    "metadata": {
        "kernelspec": {
            "display_name": "Python 3.8",
            "language": "python",
            "name": "python3"
        },
        "language_info": {
            "codemirror_mode": {
                "name": "ipython",
                "version": 3
            },
            "file_extension": ".py",
            "mimetype": "text/x-python",
            "name": "python",
            "nbconvert_exporter": "python",
            "pygments_lexer": "ipython3",
            "version": "3.8.12"
        }
    },
    "nbformat": 4,
    "nbformat_minor": 1
}